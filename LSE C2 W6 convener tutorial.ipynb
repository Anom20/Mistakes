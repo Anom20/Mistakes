{
 "cells": [
  {
   "cell_type": "markdown",
   "id": "48c017c5",
   "metadata": {},
   "source": [
    "# LSE Course 2 Week 6: Convener tutorial videos"
   ]
  },
  {
   "cell_type": "markdown",
   "id": "677598c2",
   "metadata": {},
   "source": [
    "## Seven common mistakes Python programmers make"
   ]
  },
  {
   "cell_type": "markdown",
   "id": "a64c16e2",
   "metadata": {},
   "source": [
    "### Video brief:\n",
    "Seven common mistakes Python programmers make: An important focus of the final week in Course 2 is on the reproducibility of code and version control. In this video, our expert will present and discuss seven to ten common mistakes programmers make using the PEP8 as their source of truth and connect those best practices with this section's larger question of how to present insights from business forecasts to support business decision-making."
   ]
  },
  {
   "cell_type": "markdown",
   "id": "7a9ff7c9",
   "metadata": {},
   "source": [
    "# "
   ]
  },
  {
   "cell_type": "markdown",
   "id": "cde69f4f",
   "metadata": {},
   "source": [
    "## (1) Python version and OS"
   ]
  },
  {
   "cell_type": "code",
   "execution_count": 9,
   "id": "004b28a5",
   "metadata": {},
   "outputs": [
    {
     "ename": "SyntaxError",
     "evalue": "Missing parentheses in call to 'print'. Did you mean print(\"I like Python!\")? (Temp/ipykernel_6796/3634164078.py, line 2)",
     "output_type": "error",
     "traceback": [
      "\u001b[1;36m  File \u001b[1;32m\"C:\\Users\\hamh\\AppData\\Local\\Temp/ipykernel_6796/3634164078.py\"\u001b[1;36m, line \u001b[1;32m2\u001b[0m\n\u001b[1;33m    print \"I like Python!\"\u001b[0m\n\u001b[1;37m          ^\u001b[0m\n\u001b[1;31mSyntaxError\u001b[0m\u001b[1;31m:\u001b[0m Missing parentheses in call to 'print'. Did you mean print(\"I like Python!\")?\n"
     ]
    }
   ],
   "source": [
    "# Python 2.X\n",
    "print \"I like Python!\""
   ]
  },
  {
   "cell_type": "code",
   "execution_count": 25,
   "id": "f1e72e02",
   "metadata": {},
   "outputs": [
    {
     "name": "stdout",
     "output_type": "stream",
     "text": [
      "I like Python!\n"
     ]
    }
   ],
   "source": [
    "# Python 3.X\n",
    "print ('I like Python!')"
   ]
  },
  {
   "cell_type": "code",
   "execution_count": null,
   "id": "7f1b2e7f",
   "metadata": {},
   "outputs": [],
   "source": [
    "# Windows\n",
    "os.system('cls)\n",
    "          \n",
    "# Linux\n",
    "os.system(\"clear\")"
   ]
  },
  {
   "cell_type": "markdown",
   "id": "959cd9d3",
   "metadata": {},
   "source": [
    "# "
   ]
  },
  {
   "cell_type": "markdown",
   "id": "a97752bb",
   "metadata": {},
   "source": [
    "## (2) Understand code"
   ]
  },
  {
   "cell_type": "code",
   "execution_count": null,
   "id": "bc7cc061",
   "metadata": {},
   "outputs": [],
   "source": [
    "# sort() vs sorted()\n",
    "# convener to insert own example"
   ]
  },
  {
   "cell_type": "code",
   "execution_count": null,
   "id": "4a4d1f79",
   "metadata": {},
   "outputs": [],
   "source": []
  },
  {
   "cell_type": "markdown",
   "id": "05e8ce4c",
   "metadata": {},
   "source": [
    "# "
   ]
  },
  {
   "cell_type": "markdown",
   "id": "c46d60a6",
   "metadata": {},
   "source": [
    "## (3) Brackets and colons"
   ]
  },
  {
   "cell_type": "code",
   "execution_count": 11,
   "id": "fdae4d06",
   "metadata": {},
   "outputs": [
    {
     "ename": "SyntaxError",
     "evalue": "unexpected EOF while parsing (Temp/ipykernel_6796/421024985.py, line 2)",
     "output_type": "error",
     "traceback": [
      "\u001b[1;36m  File \u001b[1;32m\"C:\\Users\\hamh\\AppData\\Local\\Temp/ipykernel_6796/421024985.py\"\u001b[1;36m, line \u001b[1;32m2\u001b[0m\n\u001b[1;33m    print ('I like Python!'\u001b[0m\n\u001b[1;37m                           ^\u001b[0m\n\u001b[1;31mSyntaxError\u001b[0m\u001b[1;31m:\u001b[0m unexpected EOF while parsing\n"
     ]
    }
   ],
   "source": [
    "# brackets\n",
    "print ('I like Python!'"
   ]
  },
  {
   "cell_type": "code",
   "execution_count": 16,
   "id": "7694db74",
   "metadata": {},
   "outputs": [],
   "source": [
    "# colon\n",
    "# convener to insert own example"
   ]
  },
  {
   "cell_type": "markdown",
   "id": "2619af9d",
   "metadata": {},
   "source": [
    "# "
   ]
  },
  {
   "cell_type": "markdown",
   "id": "09ceb5f1",
   "metadata": {},
   "source": [
    "## (4) Operators"
   ]
  },
  {
   "cell_type": "code",
   "execution_count": 21,
   "id": "40c9d9c9",
   "metadata": {},
   "outputs": [],
   "source": [
    "# convener to insert own example"
   ]
  },
  {
   "cell_type": "markdown",
   "id": "aba67dc6",
   "metadata": {},
   "source": [
    "# "
   ]
  },
  {
   "cell_type": "markdown",
   "id": "83df0b33",
   "metadata": {},
   "source": [
    "## (5) Indents, tabs and spaces"
   ]
  },
  {
   "cell_type": "code",
   "execution_count": 23,
   "id": "10888e04",
   "metadata": {},
   "outputs": [],
   "source": [
    "# convener to insert own example"
   ]
  },
  {
   "cell_type": "code",
   "execution_count": null,
   "id": "1242db42",
   "metadata": {},
   "outputs": [],
   "source": []
  },
  {
   "cell_type": "markdown",
   "id": "15658b7a",
   "metadata": {},
   "source": [
    "# "
   ]
  },
  {
   "cell_type": "markdown",
   "id": "d9cb2b6f",
   "metadata": {},
   "source": [
    "## (6) Commenting and doc strings"
   ]
  },
  {
   "cell_type": "code",
   "execution_count": 24,
   "id": "c7aab54b",
   "metadata": {},
   "outputs": [],
   "source": [
    "# convener to insert own example"
   ]
  },
  {
   "cell_type": "code",
   "execution_count": null,
   "id": "7d7e5a6c",
   "metadata": {},
   "outputs": [],
   "source": []
  },
  {
   "cell_type": "markdown",
   "id": "5edef623",
   "metadata": {},
   "source": [
    "# "
   ]
  },
  {
   "cell_type": "markdown",
   "id": "6994b1ed",
   "metadata": {},
   "source": [
    "## (7) Case sensititivy and spelling mistakes"
   ]
  },
  {
   "cell_type": "code",
   "execution_count": null,
   "id": "1adeae0f",
   "metadata": {},
   "outputs": [],
   "source": [
    "# convener to insert own example"
   ]
  },
  {
   "cell_type": "code",
   "execution_count": null,
   "id": "d0bcb88d",
   "metadata": {},
   "outputs": [],
   "source": []
  }
 ],
 "metadata": {
  "kernelspec": {
   "display_name": "Python 3 (ipykernel)",
   "language": "python",
   "name": "python3"
  },
  "language_info": {
   "codemirror_mode": {
    "name": "ipython",
    "version": 3
   },
   "file_extension": ".py",
   "mimetype": "text/x-python",
   "name": "python",
   "nbconvert_exporter": "python",
   "pygments_lexer": "ipython3",
   "version": "3.9.7"
  }
 },
 "nbformat": 4,
 "nbformat_minor": 5
}
